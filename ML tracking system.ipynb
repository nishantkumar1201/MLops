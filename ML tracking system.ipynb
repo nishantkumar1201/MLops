{
  "nbformat": 4,
  "nbformat_minor": 0,
  "metadata": {
    "colab": {
      "provenance": []
    },
    "kernelspec": {
      "name": "python3",
      "display_name": "Python 3"
    },
    "language_info": {
      "name": "python"
    }
  },
  "cells": [
    {
      "cell_type": "code",
      "metadata": {
        "id": "1db3e684",
        "colab": {
          "base_uri": "https://localhost:8080/"
        },
        "outputId": "a1e3cf06-3a7f-485a-e4df-331163607372"
      },
      "source": [
        "#Demonstrate comprehensive understanding of ML experiment tracking, model building, model selection, and model registration using MLflow either on your local machine or on a hyperscaler (AWS, Azure, GCP).\n",
        "# Importing all necessary libraries\n",
        "get_ipython().system('pip install --upgrade pip')"
      ],
      "execution_count": null,
      "outputs": [
        {
          "output_type": "stream",
          "name": "stdout",
          "text": [
            "Requirement already satisfied: pip in /usr/local/lib/python3.12/dist-packages (24.1.2)\n",
            "Collecting pip\n",
            "  Downloading pip-25.3-py3-none-any.whl.metadata (4.7 kB)\n",
            "Downloading pip-25.3-py3-none-any.whl (1.8 MB)\n",
            "\u001b[2K   \u001b[90m━━━━━━━━━━━━━━━━━━━━━━━━━━━━━━━━━━━━━━━━\u001b[0m \u001b[32m1.8/1.8 MB\u001b[0m \u001b[31m30.2 MB/s\u001b[0m eta \u001b[36m0:00:00\u001b[0m\n",
            "\u001b[?25hInstalling collected packages: pip\n",
            "  Attempting uninstall: pip\n",
            "    Found existing installation: pip 24.1.2\n",
            "    Uninstalling pip-24.1.2:\n",
            "      Successfully uninstalled pip-24.1.2\n",
            "Successfully installed pip-25.3\n"
          ]
        }
      ]
    },
    {
      "cell_type": "code",
      "source": [
        "get_ipython().system('pip install mlflow')\n",
        "get_ipython().system('pip install scikit-learn')\n",
        "import pandas as pd\n",
        "import numpy as np\n",
        "import matplotlib.pyplot as plt\n",
        "import seaborn as sns"
      ],
      "metadata": {
        "id": "G6k9My3rP-PR",
        "colab": {
          "base_uri": "https://localhost:8080/"
        },
        "outputId": "9de30428-74a0-4fea-c2c8-39c9956fa2e2"
      },
      "execution_count": null,
      "outputs": [
        {
          "output_type": "stream",
          "name": "stdout",
          "text": [
            "Requirement already satisfied: mlflow in /usr/local/lib/python3.12/dist-packages (3.5.1)\n",
            "Requirement already satisfied: mlflow-skinny==3.5.1 in /usr/local/lib/python3.12/dist-packages (from mlflow) (3.5.1)\n",
            "Requirement already satisfied: mlflow-tracing==3.5.1 in /usr/local/lib/python3.12/dist-packages (from mlflow) (3.5.1)\n",
            "Requirement already satisfied: Flask-CORS<7 in /usr/local/lib/python3.12/dist-packages (from mlflow) (6.0.1)\n",
            "Requirement already satisfied: Flask<4 in /usr/local/lib/python3.12/dist-packages (from mlflow) (3.1.2)\n",
            "Requirement already satisfied: alembic!=1.10.0,<2 in /usr/local/lib/python3.12/dist-packages (from mlflow) (1.17.0)\n",
            "Requirement already satisfied: cryptography<47,>=43.0.0 in /usr/local/lib/python3.12/dist-packages (from mlflow) (43.0.3)\n",
            "Requirement already satisfied: docker<8,>=4.0.0 in /usr/local/lib/python3.12/dist-packages (from mlflow) (7.1.0)\n",
            "Requirement already satisfied: graphene<4 in /usr/local/lib/python3.12/dist-packages (from mlflow) (3.4.3)\n",
            "Requirement already satisfied: gunicorn<24 in /usr/local/lib/python3.12/dist-packages (from mlflow) (23.0.0)\n",
            "Requirement already satisfied: matplotlib<4 in /usr/local/lib/python3.12/dist-packages (from mlflow) (3.10.0)\n",
            "Requirement already satisfied: numpy<3 in /usr/local/lib/python3.12/dist-packages (from mlflow) (2.0.2)\n",
            "Requirement already satisfied: pandas<3 in /usr/local/lib/python3.12/dist-packages (from mlflow) (2.2.2)\n",
            "Requirement already satisfied: pyarrow<22,>=4.0.0 in /usr/local/lib/python3.12/dist-packages (from mlflow) (18.1.0)\n",
            "Requirement already satisfied: scikit-learn<2 in /usr/local/lib/python3.12/dist-packages (from mlflow) (1.6.1)\n",
            "Requirement already satisfied: scipy<2 in /usr/local/lib/python3.12/dist-packages (from mlflow) (1.16.2)\n",
            "Requirement already satisfied: sqlalchemy<3,>=1.4.0 in /usr/local/lib/python3.12/dist-packages (from mlflow) (2.0.44)\n",
            "Requirement already satisfied: cachetools<7,>=5.0.0 in /usr/local/lib/python3.12/dist-packages (from mlflow-skinny==3.5.1->mlflow) (5.5.2)\n",
            "Requirement already satisfied: click<9,>=7.0 in /usr/local/lib/python3.12/dist-packages (from mlflow-skinny==3.5.1->mlflow) (8.3.0)\n",
            "Requirement already satisfied: cloudpickle<4 in /usr/local/lib/python3.12/dist-packages (from mlflow-skinny==3.5.1->mlflow) (3.1.1)\n",
            "Requirement already satisfied: databricks-sdk<1,>=0.20.0 in /usr/local/lib/python3.12/dist-packages (from mlflow-skinny==3.5.1->mlflow) (0.70.0)\n",
            "Requirement already satisfied: fastapi<1 in /usr/local/lib/python3.12/dist-packages (from mlflow-skinny==3.5.1->mlflow) (0.120.0)\n",
            "Requirement already satisfied: gitpython<4,>=3.1.9 in /usr/local/lib/python3.12/dist-packages (from mlflow-skinny==3.5.1->mlflow) (3.1.45)\n",
            "Requirement already satisfied: importlib_metadata!=4.7.0,<9,>=3.7.0 in /usr/local/lib/python3.12/dist-packages (from mlflow-skinny==3.5.1->mlflow) (8.7.0)\n",
            "Requirement already satisfied: opentelemetry-api<3,>=1.9.0 in /usr/local/lib/python3.12/dist-packages (from mlflow-skinny==3.5.1->mlflow) (1.37.0)\n",
            "Requirement already satisfied: opentelemetry-proto<3,>=1.9.0 in /usr/local/lib/python3.12/dist-packages (from mlflow-skinny==3.5.1->mlflow) (1.37.0)\n",
            "Requirement already satisfied: opentelemetry-sdk<3,>=1.9.0 in /usr/local/lib/python3.12/dist-packages (from mlflow-skinny==3.5.1->mlflow) (1.37.0)\n",
            "Requirement already satisfied: packaging<26 in /usr/local/lib/python3.12/dist-packages (from mlflow-skinny==3.5.1->mlflow) (25.0)\n",
            "Requirement already satisfied: protobuf<7,>=3.12.0 in /usr/local/lib/python3.12/dist-packages (from mlflow-skinny==3.5.1->mlflow) (5.29.5)\n",
            "Requirement already satisfied: pydantic<3,>=1.10.8 in /usr/local/lib/python3.12/dist-packages (from mlflow-skinny==3.5.1->mlflow) (2.11.10)\n",
            "Requirement already satisfied: python-dotenv<2,>=0.19.0 in /usr/local/lib/python3.12/dist-packages (from mlflow-skinny==3.5.1->mlflow) (1.1.1)\n",
            "Requirement already satisfied: pyyaml<7,>=5.1 in /usr/local/lib/python3.12/dist-packages (from mlflow-skinny==3.5.1->mlflow) (6.0.3)\n",
            "Requirement already satisfied: requests<3,>=2.17.3 in /usr/local/lib/python3.12/dist-packages (from mlflow-skinny==3.5.1->mlflow) (2.32.4)\n",
            "Requirement already satisfied: sqlparse<1,>=0.4.0 in /usr/local/lib/python3.12/dist-packages (from mlflow-skinny==3.5.1->mlflow) (0.5.3)\n",
            "Requirement already satisfied: typing-extensions<5,>=4.0.0 in /usr/local/lib/python3.12/dist-packages (from mlflow-skinny==3.5.1->mlflow) (4.15.0)\n",
            "Requirement already satisfied: uvicorn<1 in /usr/local/lib/python3.12/dist-packages (from mlflow-skinny==3.5.1->mlflow) (0.38.0)\n",
            "Requirement already satisfied: Mako in /usr/local/lib/python3.12/dist-packages (from alembic!=1.10.0,<2->mlflow) (1.3.10)\n",
            "Requirement already satisfied: cffi>=1.12 in /usr/local/lib/python3.12/dist-packages (from cryptography<47,>=43.0.0->mlflow) (2.0.0)\n",
            "Requirement already satisfied: google-auth~=2.0 in /usr/local/lib/python3.12/dist-packages (from databricks-sdk<1,>=0.20.0->mlflow-skinny==3.5.1->mlflow) (2.38.0)\n",
            "Requirement already satisfied: urllib3>=1.26.0 in /usr/local/lib/python3.12/dist-packages (from docker<8,>=4.0.0->mlflow) (2.5.0)\n",
            "Requirement already satisfied: starlette<0.49.0,>=0.40.0 in /usr/local/lib/python3.12/dist-packages (from fastapi<1->mlflow-skinny==3.5.1->mlflow) (0.48.0)\n",
            "Requirement already satisfied: annotated-doc>=0.0.2 in /usr/local/lib/python3.12/dist-packages (from fastapi<1->mlflow-skinny==3.5.1->mlflow) (0.0.3)\n",
            "Requirement already satisfied: blinker>=1.9.0 in /usr/local/lib/python3.12/dist-packages (from Flask<4->mlflow) (1.9.0)\n",
            "Requirement already satisfied: itsdangerous>=2.2.0 in /usr/local/lib/python3.12/dist-packages (from Flask<4->mlflow) (2.2.0)\n",
            "Requirement already satisfied: jinja2>=3.1.2 in /usr/local/lib/python3.12/dist-packages (from Flask<4->mlflow) (3.1.6)\n",
            "Requirement already satisfied: markupsafe>=2.1.1 in /usr/local/lib/python3.12/dist-packages (from Flask<4->mlflow) (3.0.3)\n",
            "Requirement already satisfied: werkzeug>=3.1.0 in /usr/local/lib/python3.12/dist-packages (from Flask<4->mlflow) (3.1.3)\n",
            "Requirement already satisfied: gitdb<5,>=4.0.1 in /usr/local/lib/python3.12/dist-packages (from gitpython<4,>=3.1.9->mlflow-skinny==3.5.1->mlflow) (4.0.12)\n",
            "Requirement already satisfied: smmap<6,>=3.0.1 in /usr/local/lib/python3.12/dist-packages (from gitdb<5,>=4.0.1->gitpython<4,>=3.1.9->mlflow-skinny==3.5.1->mlflow) (5.0.2)\n",
            "Requirement already satisfied: pyasn1-modules>=0.2.1 in /usr/local/lib/python3.12/dist-packages (from google-auth~=2.0->databricks-sdk<1,>=0.20.0->mlflow-skinny==3.5.1->mlflow) (0.4.2)\n",
            "Requirement already satisfied: rsa<5,>=3.1.4 in /usr/local/lib/python3.12/dist-packages (from google-auth~=2.0->databricks-sdk<1,>=0.20.0->mlflow-skinny==3.5.1->mlflow) (4.9.1)\n",
            "Requirement already satisfied: graphql-core<3.3,>=3.1 in /usr/local/lib/python3.12/dist-packages (from graphene<4->mlflow) (3.2.6)\n",
            "Requirement already satisfied: graphql-relay<3.3,>=3.1 in /usr/local/lib/python3.12/dist-packages (from graphene<4->mlflow) (3.2.0)\n",
            "Requirement already satisfied: python-dateutil<3,>=2.7.0 in /usr/local/lib/python3.12/dist-packages (from graphene<4->mlflow) (2.9.0.post0)\n",
            "Requirement already satisfied: zipp>=3.20 in /usr/local/lib/python3.12/dist-packages (from importlib_metadata!=4.7.0,<9,>=3.7.0->mlflow-skinny==3.5.1->mlflow) (3.23.0)\n",
            "Requirement already satisfied: contourpy>=1.0.1 in /usr/local/lib/python3.12/dist-packages (from matplotlib<4->mlflow) (1.3.3)\n",
            "Requirement already satisfied: cycler>=0.10 in /usr/local/lib/python3.12/dist-packages (from matplotlib<4->mlflow) (0.12.1)\n",
            "Requirement already satisfied: fonttools>=4.22.0 in /usr/local/lib/python3.12/dist-packages (from matplotlib<4->mlflow) (4.60.1)\n",
            "Requirement already satisfied: kiwisolver>=1.3.1 in /usr/local/lib/python3.12/dist-packages (from matplotlib<4->mlflow) (1.4.9)\n",
            "Requirement already satisfied: pillow>=8 in /usr/local/lib/python3.12/dist-packages (from matplotlib<4->mlflow) (11.3.0)\n",
            "Requirement already satisfied: pyparsing>=2.3.1 in /usr/local/lib/python3.12/dist-packages (from matplotlib<4->mlflow) (3.2.5)\n",
            "Requirement already satisfied: opentelemetry-semantic-conventions==0.58b0 in /usr/local/lib/python3.12/dist-packages (from opentelemetry-sdk<3,>=1.9.0->mlflow-skinny==3.5.1->mlflow) (0.58b0)\n",
            "Requirement already satisfied: pytz>=2020.1 in /usr/local/lib/python3.12/dist-packages (from pandas<3->mlflow) (2025.2)\n",
            "Requirement already satisfied: tzdata>=2022.7 in /usr/local/lib/python3.12/dist-packages (from pandas<3->mlflow) (2025.2)\n",
            "Requirement already satisfied: annotated-types>=0.6.0 in /usr/local/lib/python3.12/dist-packages (from pydantic<3,>=1.10.8->mlflow-skinny==3.5.1->mlflow) (0.7.0)\n",
            "Requirement already satisfied: pydantic-core==2.33.2 in /usr/local/lib/python3.12/dist-packages (from pydantic<3,>=1.10.8->mlflow-skinny==3.5.1->mlflow) (2.33.2)\n",
            "Requirement already satisfied: typing-inspection>=0.4.0 in /usr/local/lib/python3.12/dist-packages (from pydantic<3,>=1.10.8->mlflow-skinny==3.5.1->mlflow) (0.4.2)\n",
            "Requirement already satisfied: six>=1.5 in /usr/local/lib/python3.12/dist-packages (from python-dateutil<3,>=2.7.0->graphene<4->mlflow) (1.17.0)\n",
            "Requirement already satisfied: charset_normalizer<4,>=2 in /usr/local/lib/python3.12/dist-packages (from requests<3,>=2.17.3->mlflow-skinny==3.5.1->mlflow) (3.4.4)\n",
            "Requirement already satisfied: idna<4,>=2.5 in /usr/local/lib/python3.12/dist-packages (from requests<3,>=2.17.3->mlflow-skinny==3.5.1->mlflow) (3.11)\n",
            "Requirement already satisfied: certifi>=2017.4.17 in /usr/local/lib/python3.12/dist-packages (from requests<3,>=2.17.3->mlflow-skinny==3.5.1->mlflow) (2025.10.5)\n",
            "Requirement already satisfied: pyasn1>=0.1.3 in /usr/local/lib/python3.12/dist-packages (from rsa<5,>=3.1.4->google-auth~=2.0->databricks-sdk<1,>=0.20.0->mlflow-skinny==3.5.1->mlflow) (0.6.1)\n",
            "Requirement already satisfied: joblib>=1.2.0 in /usr/local/lib/python3.12/dist-packages (from scikit-learn<2->mlflow) (1.5.2)\n",
            "Requirement already satisfied: threadpoolctl>=3.1.0 in /usr/local/lib/python3.12/dist-packages (from scikit-learn<2->mlflow) (3.6.0)\n",
            "Requirement already satisfied: greenlet>=1 in /usr/local/lib/python3.12/dist-packages (from sqlalchemy<3,>=1.4.0->mlflow) (3.2.4)\n",
            "Requirement already satisfied: anyio<5,>=3.6.2 in /usr/local/lib/python3.12/dist-packages (from starlette<0.49.0,>=0.40.0->fastapi<1->mlflow-skinny==3.5.1->mlflow) (4.11.0)\n",
            "Requirement already satisfied: sniffio>=1.1 in /usr/local/lib/python3.12/dist-packages (from anyio<5,>=3.6.2->starlette<0.49.0,>=0.40.0->fastapi<1->mlflow-skinny==3.5.1->mlflow) (1.3.1)\n",
            "Requirement already satisfied: h11>=0.8 in /usr/local/lib/python3.12/dist-packages (from uvicorn<1->mlflow-skinny==3.5.1->mlflow) (0.16.0)\n",
            "Requirement already satisfied: pycparser in /usr/local/lib/python3.12/dist-packages (from cffi>=1.12->cryptography<47,>=43.0.0->mlflow) (2.23)\n",
            "Requirement already satisfied: scikit-learn in /usr/local/lib/python3.12/dist-packages (1.6.1)\n",
            "Requirement already satisfied: numpy>=1.19.5 in /usr/local/lib/python3.12/dist-packages (from scikit-learn) (2.0.2)\n",
            "Requirement already satisfied: scipy>=1.6.0 in /usr/local/lib/python3.12/dist-packages (from scikit-learn) (1.16.2)\n",
            "Requirement already satisfied: joblib>=1.2.0 in /usr/local/lib/python3.12/dist-packages (from scikit-learn) (1.5.2)\n",
            "Requirement already satisfied: threadpoolctl>=3.1.0 in /usr/local/lib/python3.12/dist-packages (from scikit-learn) (3.6.0)\n"
          ]
        }
      ]
    },
    {
      "cell_type": "code",
      "source": [
        "# MLOps Pipeline with MLflow and Docker\n",
        "import mlflow\n",
        "import mlflow.sklearn\n",
        "from sklearn.ensemble import RandomForestClassifier\n",
        "from sklearn.model_selection import train_test_split\n",
        "from sklearn.metrics import accuracy_score\n",
        "\n",
        "# 1. Data preparation\n",
        "# Assuming X and y are already defined from previous steps\n",
        "X_train, X_test, y_train, y_test = train_test_split(X, y, test_size=0.2) # This line requires X and y to be defined\n",
        "\n",
        "# 2. Start MLflow experiment\n",
        "mlflow.start_run()\n",
        "\n",
        "# 3. Train model\n",
        "model = RandomForestClassifier(n_estimators=100)\n",
        "model.fit(X_train, y_train) # This line requires X_train and y_train to be defined\n",
        "\n",
        "# 4. Evaluate model\n",
        "predictions = model.predict(X_test) # This line requires X_test to be defined\n",
        "accuracy = accuracy_score(y_test, predictions) # This line requires y_test and predictions to be defined\n",
        "\n",
        "# 5. Log metrics and model\n",
        "mlflow.log_metric(\"accuracy\", accuracy) # This line requires accuracy to be defined\n",
        "mlflow.sklearn.log_model(model, \"random_forest_model\")\n",
        "\n",
        "# 6. Register model for deployment\n",
        "model_uri = f\"runs:/{mlflow.active_run().info.run_id}/random_forest_model\" # This line requires an active run\n",
        "mlflow.register_model(model_uri, \"production_model\")\n",
        "\n",
        "mlflow.end_run() # Ensure run is ended even if errors occur in commented lines"
      ],
      "metadata": {
        "colab": {
          "base_uri": "https://localhost:8080/"
        },
        "id": "Ce-YxvRJ6Wwr",
        "outputId": "4c0da2b9-63b9-4132-9798-56faed0a3df7"
      },
      "execution_count": null,
      "outputs": [
        {
          "output_type": "stream",
          "name": "stderr",
          "text": [
            "2025/10/29 05:06:18 WARNING mlflow.models.model: `artifact_path` is deprecated. Please use `name` instead.\n",
            "\u001b[31m2025/10/29 05:06:32 WARNING mlflow.models.model: Model logged without a signature and input example. Please set `input_example` parameter when logging the model to auto infer the model signature.\u001b[0m\n",
            "Successfully registered model 'production_model'.\n",
            "2025/10/29 05:06:32 WARNING mlflow.tracking._model_registry.fluent: Run with id 683e4b703c5c45b5827d56bc0319a839 has no artifacts at artifact path 'random_forest_model', registering model based on models:/m-406aa017c4ad4e379f41dcc0b49928cb instead\n",
            "Created version '1' of model 'production_model'.\n"
          ]
        }
      ]
    },
    {
      "cell_type": "code",
      "source": [
        "import mlflow\n",
        "import mlflow.sklearn\n",
        "from sklearn.ensemble import RandomForestClassifier\n",
        "from sklearn.metrics import accuracy_score\n",
        "\n",
        "# Start MLflow experiment\n",
        "mlflow.set_experiment(\"model-comparison\")\n",
        "with mlflow.start_run():\n",
        "    # Log parameters\n",
        "    mlflow.log_param(\"n_estimators\", 100)\n",
        "    mlflow.log_param(\"max_depth\", 10)\n",
        "\n",
        "    # Train model\n",
        "    model = RandomForestClassifier(n_estimators=100, max_depth=10)\n",
        "    model.fit(X_train, y_train)\n",
        "\n",
        "    #Make predictions and log metrics\n",
        "    predictions = model.predict(X_test)\n",
        "    accuracy = accuracy_score(y_test, predictions)\n",
        "    mlflow.log_metric(\"accuracy\", accuracy)\n",
        "\n",
        "    #Log model\n",
        "    mlflow.sklearn.log_model(model, \"model\")"
      ],
      "metadata": {
        "colab": {
          "base_uri": "https://localhost:8080/"
        },
        "id": "vihYIMc972z8",
        "outputId": "e68b2795-d899-47f7-f7dd-eb8454741d7e"
      },
      "execution_count": null,
      "outputs": [
        {
          "output_type": "stream",
          "name": "stderr",
          "text": [
            "2025/10/29 05:06:32 INFO mlflow.tracking.fluent: Experiment with name 'model-comparison' does not exist. Creating a new experiment.\n",
            "2025/10/29 05:06:33 WARNING mlflow.models.model: `artifact_path` is deprecated. Please use `name` instead.\n",
            "\u001b[31m2025/10/29 05:06:41 WARNING mlflow.models.model: Model logged without a signature and input example. Please set `input_example` parameter when logging the model to auto infer the model signature.\u001b[0m\n"
          ]
        }
      ]
    },
    {
      "cell_type": "code",
      "source": [
        "get_ipython().system('pip install mlflow scikit-learn')"
      ],
      "metadata": {
        "colab": {
          "base_uri": "https://localhost:8080/"
        },
        "id": "wpZJJYMFWn_o",
        "outputId": "befe56b5-c3af-4684-f63c-42832d78e2b7"
      },
      "execution_count": null,
      "outputs": [
        {
          "output_type": "stream",
          "name": "stdout",
          "text": [
            "Requirement already satisfied: mlflow in /usr/local/lib/python3.12/dist-packages (3.5.1)\n",
            "Requirement already satisfied: scikit-learn in /usr/local/lib/python3.12/dist-packages (1.6.1)\n",
            "Requirement already satisfied: mlflow-skinny==3.5.1 in /usr/local/lib/python3.12/dist-packages (from mlflow) (3.5.1)\n",
            "Requirement already satisfied: mlflow-tracing==3.5.1 in /usr/local/lib/python3.12/dist-packages (from mlflow) (3.5.1)\n",
            "Requirement already satisfied: Flask-CORS<7 in /usr/local/lib/python3.12/dist-packages (from mlflow) (6.0.1)\n",
            "Requirement already satisfied: Flask<4 in /usr/local/lib/python3.12/dist-packages (from mlflow) (3.1.2)\n",
            "Requirement already satisfied: alembic!=1.10.0,<2 in /usr/local/lib/python3.12/dist-packages (from mlflow) (1.17.0)\n",
            "Requirement already satisfied: cryptography<47,>=43.0.0 in /usr/local/lib/python3.12/dist-packages (from mlflow) (43.0.3)\n",
            "Requirement already satisfied: docker<8,>=4.0.0 in /usr/local/lib/python3.12/dist-packages (from mlflow) (7.1.0)\n",
            "Requirement already satisfied: graphene<4 in /usr/local/lib/python3.12/dist-packages (from mlflow) (3.4.3)\n",
            "Requirement already satisfied: gunicorn<24 in /usr/local/lib/python3.12/dist-packages (from mlflow) (23.0.0)\n",
            "Requirement already satisfied: matplotlib<4 in /usr/local/lib/python3.12/dist-packages (from mlflow) (3.10.0)\n",
            "Requirement already satisfied: numpy<3 in /usr/local/lib/python3.12/dist-packages (from mlflow) (2.0.2)\n",
            "Requirement already satisfied: pandas<3 in /usr/local/lib/python3.12/dist-packages (from mlflow) (2.2.2)\n",
            "Requirement already satisfied: pyarrow<22,>=4.0.0 in /usr/local/lib/python3.12/dist-packages (from mlflow) (18.1.0)\n",
            "Requirement already satisfied: scipy<2 in /usr/local/lib/python3.12/dist-packages (from mlflow) (1.16.2)\n",
            "Requirement already satisfied: sqlalchemy<3,>=1.4.0 in /usr/local/lib/python3.12/dist-packages (from mlflow) (2.0.44)\n",
            "Requirement already satisfied: cachetools<7,>=5.0.0 in /usr/local/lib/python3.12/dist-packages (from mlflow-skinny==3.5.1->mlflow) (5.5.2)\n",
            "Requirement already satisfied: click<9,>=7.0 in /usr/local/lib/python3.12/dist-packages (from mlflow-skinny==3.5.1->mlflow) (8.3.0)\n",
            "Requirement already satisfied: cloudpickle<4 in /usr/local/lib/python3.12/dist-packages (from mlflow-skinny==3.5.1->mlflow) (3.1.1)\n",
            "Requirement already satisfied: databricks-sdk<1,>=0.20.0 in /usr/local/lib/python3.12/dist-packages (from mlflow-skinny==3.5.1->mlflow) (0.70.0)\n",
            "Requirement already satisfied: fastapi<1 in /usr/local/lib/python3.12/dist-packages (from mlflow-skinny==3.5.1->mlflow) (0.120.0)\n",
            "Requirement already satisfied: gitpython<4,>=3.1.9 in /usr/local/lib/python3.12/dist-packages (from mlflow-skinny==3.5.1->mlflow) (3.1.45)\n",
            "Requirement already satisfied: importlib_metadata!=4.7.0,<9,>=3.7.0 in /usr/local/lib/python3.12/dist-packages (from mlflow-skinny==3.5.1->mlflow) (8.7.0)\n",
            "Requirement already satisfied: opentelemetry-api<3,>=1.9.0 in /usr/local/lib/python3.12/dist-packages (from mlflow-skinny==3.5.1->mlflow) (1.37.0)\n",
            "Requirement already satisfied: opentelemetry-proto<3,>=1.9.0 in /usr/local/lib/python3.12/dist-packages (from mlflow-skinny==3.5.1->mlflow) (1.37.0)\n",
            "Requirement already satisfied: opentelemetry-sdk<3,>=1.9.0 in /usr/local/lib/python3.12/dist-packages (from mlflow-skinny==3.5.1->mlflow) (1.37.0)\n",
            "Requirement already satisfied: packaging<26 in /usr/local/lib/python3.12/dist-packages (from mlflow-skinny==3.5.1->mlflow) (25.0)\n",
            "Requirement already satisfied: protobuf<7,>=3.12.0 in /usr/local/lib/python3.12/dist-packages (from mlflow-skinny==3.5.1->mlflow) (5.29.5)\n",
            "Requirement already satisfied: pydantic<3,>=1.10.8 in /usr/local/lib/python3.12/dist-packages (from mlflow-skinny==3.5.1->mlflow) (2.11.10)\n",
            "Requirement already satisfied: python-dotenv<2,>=0.19.0 in /usr/local/lib/python3.12/dist-packages (from mlflow-skinny==3.5.1->mlflow) (1.1.1)\n",
            "Requirement already satisfied: pyyaml<7,>=5.1 in /usr/local/lib/python3.12/dist-packages (from mlflow-skinny==3.5.1->mlflow) (6.0.3)\n",
            "Requirement already satisfied: requests<3,>=2.17.3 in /usr/local/lib/python3.12/dist-packages (from mlflow-skinny==3.5.1->mlflow) (2.32.4)\n",
            "Requirement already satisfied: sqlparse<1,>=0.4.0 in /usr/local/lib/python3.12/dist-packages (from mlflow-skinny==3.5.1->mlflow) (0.5.3)\n",
            "Requirement already satisfied: typing-extensions<5,>=4.0.0 in /usr/local/lib/python3.12/dist-packages (from mlflow-skinny==3.5.1->mlflow) (4.15.0)\n",
            "Requirement already satisfied: uvicorn<1 in /usr/local/lib/python3.12/dist-packages (from mlflow-skinny==3.5.1->mlflow) (0.38.0)\n",
            "Requirement already satisfied: joblib>=1.2.0 in /usr/local/lib/python3.12/dist-packages (from scikit-learn) (1.5.2)\n",
            "Requirement already satisfied: threadpoolctl>=3.1.0 in /usr/local/lib/python3.12/dist-packages (from scikit-learn) (3.6.0)\n",
            "Requirement already satisfied: Mako in /usr/local/lib/python3.12/dist-packages (from alembic!=1.10.0,<2->mlflow) (1.3.10)\n",
            "Requirement already satisfied: cffi>=1.12 in /usr/local/lib/python3.12/dist-packages (from cryptography<47,>=43.0.0->mlflow) (2.0.0)\n",
            "Requirement already satisfied: google-auth~=2.0 in /usr/local/lib/python3.12/dist-packages (from databricks-sdk<1,>=0.20.0->mlflow-skinny==3.5.1->mlflow) (2.38.0)\n",
            "Requirement already satisfied: urllib3>=1.26.0 in /usr/local/lib/python3.12/dist-packages (from docker<8,>=4.0.0->mlflow) (2.5.0)\n",
            "Requirement already satisfied: starlette<0.49.0,>=0.40.0 in /usr/local/lib/python3.12/dist-packages (from fastapi<1->mlflow-skinny==3.5.1->mlflow) (0.48.0)\n",
            "Requirement already satisfied: annotated-doc>=0.0.2 in /usr/local/lib/python3.12/dist-packages (from fastapi<1->mlflow-skinny==3.5.1->mlflow) (0.0.3)\n",
            "Requirement already satisfied: blinker>=1.9.0 in /usr/local/lib/python3.12/dist-packages (from Flask<4->mlflow) (1.9.0)\n",
            "Requirement already satisfied: itsdangerous>=2.2.0 in /usr/local/lib/python3.12/dist-packages (from Flask<4->mlflow) (2.2.0)\n",
            "Requirement already satisfied: jinja2>=3.1.2 in /usr/local/lib/python3.12/dist-packages (from Flask<4->mlflow) (3.1.6)\n",
            "Requirement already satisfied: markupsafe>=2.1.1 in /usr/local/lib/python3.12/dist-packages (from Flask<4->mlflow) (3.0.3)\n",
            "Requirement already satisfied: werkzeug>=3.1.0 in /usr/local/lib/python3.12/dist-packages (from Flask<4->mlflow) (3.1.3)\n",
            "Requirement already satisfied: gitdb<5,>=4.0.1 in /usr/local/lib/python3.12/dist-packages (from gitpython<4,>=3.1.9->mlflow-skinny==3.5.1->mlflow) (4.0.12)\n",
            "Requirement already satisfied: smmap<6,>=3.0.1 in /usr/local/lib/python3.12/dist-packages (from gitdb<5,>=4.0.1->gitpython<4,>=3.1.9->mlflow-skinny==3.5.1->mlflow) (5.0.2)\n",
            "Requirement already satisfied: pyasn1-modules>=0.2.1 in /usr/local/lib/python3.12/dist-packages (from google-auth~=2.0->databricks-sdk<1,>=0.20.0->mlflow-skinny==3.5.1->mlflow) (0.4.2)\n",
            "Requirement already satisfied: rsa<5,>=3.1.4 in /usr/local/lib/python3.12/dist-packages (from google-auth~=2.0->databricks-sdk<1,>=0.20.0->mlflow-skinny==3.5.1->mlflow) (4.9.1)\n",
            "Requirement already satisfied: graphql-core<3.3,>=3.1 in /usr/local/lib/python3.12/dist-packages (from graphene<4->mlflow) (3.2.6)\n",
            "Requirement already satisfied: graphql-relay<3.3,>=3.1 in /usr/local/lib/python3.12/dist-packages (from graphene<4->mlflow) (3.2.0)\n",
            "Requirement already satisfied: python-dateutil<3,>=2.7.0 in /usr/local/lib/python3.12/dist-packages (from graphene<4->mlflow) (2.9.0.post0)\n",
            "Requirement already satisfied: zipp>=3.20 in /usr/local/lib/python3.12/dist-packages (from importlib_metadata!=4.7.0,<9,>=3.7.0->mlflow-skinny==3.5.1->mlflow) (3.23.0)\n",
            "Requirement already satisfied: contourpy>=1.0.1 in /usr/local/lib/python3.12/dist-packages (from matplotlib<4->mlflow) (1.3.3)\n",
            "Requirement already satisfied: cycler>=0.10 in /usr/local/lib/python3.12/dist-packages (from matplotlib<4->mlflow) (0.12.1)\n",
            "Requirement already satisfied: fonttools>=4.22.0 in /usr/local/lib/python3.12/dist-packages (from matplotlib<4->mlflow) (4.60.1)\n",
            "Requirement already satisfied: kiwisolver>=1.3.1 in /usr/local/lib/python3.12/dist-packages (from matplotlib<4->mlflow) (1.4.9)\n",
            "Requirement already satisfied: pillow>=8 in /usr/local/lib/python3.12/dist-packages (from matplotlib<4->mlflow) (11.3.0)\n",
            "Requirement already satisfied: pyparsing>=2.3.1 in /usr/local/lib/python3.12/dist-packages (from matplotlib<4->mlflow) (3.2.5)\n",
            "Requirement already satisfied: opentelemetry-semantic-conventions==0.58b0 in /usr/local/lib/python3.12/dist-packages (from opentelemetry-sdk<3,>=1.9.0->mlflow-skinny==3.5.1->mlflow) (0.58b0)\n",
            "Requirement already satisfied: pytz>=2020.1 in /usr/local/lib/python3.12/dist-packages (from pandas<3->mlflow) (2025.2)\n",
            "Requirement already satisfied: tzdata>=2022.7 in /usr/local/lib/python3.12/dist-packages (from pandas<3->mlflow) (2025.2)\n",
            "Requirement already satisfied: annotated-types>=0.6.0 in /usr/local/lib/python3.12/dist-packages (from pydantic<3,>=1.10.8->mlflow-skinny==3.5.1->mlflow) (0.7.0)\n",
            "Requirement already satisfied: pydantic-core==2.33.2 in /usr/local/lib/python3.12/dist-packages (from pydantic<3,>=1.10.8->mlflow-skinny==3.5.1->mlflow) (2.33.2)\n",
            "Requirement already satisfied: typing-inspection>=0.4.0 in /usr/local/lib/python3.12/dist-packages (from pydantic<3,>=1.10.8->mlflow-skinny==3.5.1->mlflow) (0.4.2)\n",
            "Requirement already satisfied: six>=1.5 in /usr/local/lib/python3.12/dist-packages (from python-dateutil<3,>=2.7.0->graphene<4->mlflow) (1.17.0)\n",
            "Requirement already satisfied: charset_normalizer<4,>=2 in /usr/local/lib/python3.12/dist-packages (from requests<3,>=2.17.3->mlflow-skinny==3.5.1->mlflow) (3.4.4)\n",
            "Requirement already satisfied: idna<4,>=2.5 in /usr/local/lib/python3.12/dist-packages (from requests<3,>=2.17.3->mlflow-skinny==3.5.1->mlflow) (3.11)\n",
            "Requirement already satisfied: certifi>=2017.4.17 in /usr/local/lib/python3.12/dist-packages (from requests<3,>=2.17.3->mlflow-skinny==3.5.1->mlflow) (2025.10.5)\n",
            "Requirement already satisfied: pyasn1>=0.1.3 in /usr/local/lib/python3.12/dist-packages (from rsa<5,>=3.1.4->google-auth~=2.0->databricks-sdk<1,>=0.20.0->mlflow-skinny==3.5.1->mlflow) (0.6.1)\n",
            "Requirement already satisfied: greenlet>=1 in /usr/local/lib/python3.12/dist-packages (from sqlalchemy<3,>=1.4.0->mlflow) (3.2.4)\n",
            "Requirement already satisfied: anyio<5,>=3.6.2 in /usr/local/lib/python3.12/dist-packages (from starlette<0.49.0,>=0.40.0->fastapi<1->mlflow-skinny==3.5.1->mlflow) (4.11.0)\n",
            "Requirement already satisfied: sniffio>=1.1 in /usr/local/lib/python3.12/dist-packages (from anyio<5,>=3.6.2->starlette<0.49.0,>=0.40.0->fastapi<1->mlflow-skinny==3.5.1->mlflow) (1.3.1)\n",
            "Requirement already satisfied: h11>=0.8 in /usr/local/lib/python3.12/dist-packages (from uvicorn<1->mlflow-skinny==3.5.1->mlflow) (0.16.0)\n",
            "Requirement already satisfied: pycparser in /usr/local/lib/python3.12/dist-packages (from cffi>=1.12->cryptography<47,>=43.0.0->mlflow) (2.23)\n"
          ]
        }
      ]
    },
    {
      "cell_type": "code",
      "metadata": {
        "id": "f5dd58a8"
      },
      "source": [
        "from sklearn.model_selection import train_test_split\n",
        "import numpy as np\n",
        "\n",
        "# Create dummy data\n",
        "X = np.random.rand(100, 10)  # 100 samples, 10 features\n",
        "y = np.random.randint(0, 2, 100) # 100 samples, binary target\n",
        "\n",
        "# Split dummy data into training and testing sets\n",
        "X_train, X_test, y_train, y_test = train_test_split(X, y, test_size=0.2, random_state=42)"
      ],
      "execution_count": null,
      "outputs": []
    },
    {
      "cell_type": "markdown",
      "source": [],
      "metadata": {
        "id": "5jMXbJa88odt"
      }
    },
    {
      "cell_type": "code",
      "source": [
        "import mlflow\n",
        "import mlflow.sklearn\n",
        "from sklearn.ensemble import RandomForestClassifier\n",
        "from sklearn.model_selection import train_test_split\n",
        "from sklearn.metrics import accuracy_score\n",
        "import numpy as np\n",
        "\n",
        "# Create dummy data (assuming this is needed based on previous errors)\n",
        "X = np.random.rand(100, 10)  # 100 samples, 10 features\n",
        "y = np.random.randint(0, 2, 100) # 100 samples, binary target\n",
        "\n",
        "# Split dummy data into training and testing sets\n",
        "X_train, X_test, y_train, y_test = train_test_split(X, y, test_size=0.2, random_state=42)\n",
        "\n",
        "# Start MLflow experiment\n",
        "mlflow.set_experiment(\"model-comparison\")\n",
        "with mlflow.start_run() as run:\n",
        "    run_id = run.info.run_id # Get the run_id here\n",
        "\n",
        "    # Log parameters\n",
        "    mlflow.log_param(\"n_estimators\", 100)\n",
        "    mlflow.log_param(\"max_depth\", 10)\n",
        "\n",
        "    # Train model\n",
        "    model = RandomForestClassifier(n_estimators=100, max_depth=10)\n",
        "    model.fit(X_train, y_train)\n",
        "\n",
        "    #Make predictions and log metrics\n",
        "    predictions = model.predict(X_test)\n",
        "    accuracy = accuracy_score(y_test, predictions)\n",
        "    mlflow.log_metric(\"accuracy\", accuracy)\n",
        "\n",
        "    #Log model\n",
        "    mlflow.sklearn.log_model(model, \"model\")\n",
        "\n",
        "    # Register model for deployment\n",
        "    model_uri = f\"runs:/{run_id}/model\"\n",
        "    mlflow.register_model(model_uri, \"production_model\")\n",
        "\n",
        "# The run is automatically ended when exiting the 'with' block"
      ],
      "metadata": {
        "colab": {
          "base_uri": "https://localhost:8080/"
        },
        "id": "B5gjhWIf7gJR",
        "outputId": "59d4d2d8-e5dd-4232-a27e-8877f598dfc6"
      },
      "execution_count": null,
      "outputs": [
        {
          "output_type": "stream",
          "name": "stderr",
          "text": [
            "2025/10/29 05:07:30 WARNING mlflow.models.model: `artifact_path` is deprecated. Please use `name` instead.\n",
            "\u001b[31m2025/10/29 05:07:34 WARNING mlflow.models.model: Model logged without a signature and input example. Please set `input_example` parameter when logging the model to auto infer the model signature.\u001b[0m\n",
            "Registered model 'production_model' already exists. Creating a new version of this model...\n",
            "2025/10/29 05:07:34 WARNING mlflow.tracking._model_registry.fluent: Run with id a19a1981212d4fb88c65333f701afb5d has no artifacts at artifact path 'model', registering model based on models:/m-becfaa461f8a468085d44956472efb10 instead\n",
            "Created version '2' of model 'production_model'.\n"
          ]
        }
      ]
    },
    {
      "cell_type": "code",
      "source": [
        "# Register best model\n",
        "model_uri = \"runs:/{}/model\".format(run_id)\n",
        "mlflow.register_model(model_uri, \"MyMLModel\")\n",
        "# Transition model to production\n",
        "client = mlflow.tracking.MlflowClient()\n",
        "client.transition_model_version_stage( name=\"MyMLModel\", version=1, stage=\"Production\" )"
      ],
      "metadata": {
        "colab": {
          "base_uri": "https://localhost:8080/"
        },
        "id": "F2Qwsp9L9QWK",
        "outputId": "a10d6230-d505-49bb-e865-07467efba7e7"
      },
      "execution_count": null,
      "outputs": [
        {
          "output_type": "stream",
          "name": "stderr",
          "text": [
            "Successfully registered model 'MyMLModel'.\n",
            "2025/10/29 05:08:52 WARNING mlflow.tracking._model_registry.fluent: Run with id a19a1981212d4fb88c65333f701afb5d has no artifacts at artifact path 'model', registering model based on models:/m-becfaa461f8a468085d44956472efb10 instead\n",
            "Created version '1' of model 'MyMLModel'.\n",
            "/tmp/ipython-input-2657874391.py:6: FutureWarning: ``mlflow.tracking.client.MlflowClient.transition_model_version_stage`` is deprecated since 2.9.0. Model registry stages will be removed in a future major release. To learn more about the deprecation of model registry stages, see our migration guide here: https://mlflow.org/docs/latest/model-registry.html#migrating-from-stages\n",
            "  client.transition_model_version_stage( name=\"MyMLModel\", version=1, stage=\"Production\" )\n"
          ]
        },
        {
          "output_type": "execute_result",
          "data": {
            "text/plain": [
              "<ModelVersion: aliases=[], creation_timestamp=1761714532018, current_stage='Production', deployment_job_state=None, description=None, last_updated_timestamp=1761714532029, metrics=[<Metric: dataset_digest=None, dataset_name=None, key='accuracy', model_id='m-becfaa461f8a468085d44956472efb10', run_id='a19a1981212d4fb88c65333f701afb5d', step=0, timestamp=1761714450415, value=0.8>], model_id='m-becfaa461f8a468085d44956472efb10', name='MyMLModel', params={'max_depth': '10', 'n_estimators': '100'}, run_id='a19a1981212d4fb88c65333f701afb5d', run_link=None, source='models:/m-becfaa461f8a468085d44956472efb10', status='READY', status_message=None, tags={}, user_id=None, version=1>"
            ]
          },
          "metadata": {},
          "execution_count": 21
        }
      ]
    },
    {
      "cell_type": "code",
      "source": [
        "import numpy as np\n",
        "import pandas as pd\n",
        "from sklearn.model_selection import train_test_split\n",
        "from sklearn.impute import SimpleImputer\n",
        "from sklearn.preprocessing import StandardScaler, OneHotEncoder\n",
        "from sklearn.compose import ColumnTransformer\n",
        "from sklearn.pipeline import Pipeline\n",
        "\n",
        "# --- 1. Dataset Generation (200,000 Samples) ---\n",
        "# Simulating a \"big\" dataset (200,000 rows, 13 features) for a Classification task.\n",
        "print(\"--- 1. Generating a Large Synthetic Dataset (200,000 rows) ---\")\n",
        "N_SAMPLES = 200000\n",
        "N_FEATURES = 12\n",
        "\n",
        "# Generate Numerical Features (8 features)\n",
        "data_num = {\n",
        "    f'num_feat_{i}': np.random.randn(N_SAMPLES) * (i + 1) for i in range(8)\n",
        "}\n",
        "\n",
        "# Generate Categorical Features (4 features)\n",
        "categories = {\n",
        "    'city_region': np.random.choice(['North', 'South', 'East', 'West', np.nan], N_SAMPLES, p=[0.2, 0.3, 0.2, 0.2, 0.1]),\n",
        "    'product_type': np.random.choice(['A', 'B', 'C', 'D'], N_SAMPLES),\n",
        "    'device_os': np.random.choice(['iOS', 'Android', 'Web'], N_SAMPLES, p=[0.4, 0.3, 0.3]),\n",
        "    'is_prime': np.random.choice([True, False], N_SAMPLES, p=[0.15, 0.85])\n",
        "}\n",
        "\n",
        "df = pd.DataFrame({**data_num, **categories})\n",
        "\n",
        "# Introduce some missing values into numerical columns\n",
        "for col in ['num_feat_1', 'num_feat_5']:\n",
        "    missing_indices = np.random.choice(N_SAMPLES, size=int(0.05 * N_SAMPLES), replace=False)\n",
        "    df.loc[missing_indices, col] = np.nan\n",
        "\n",
        "# Generate a Binary Target Variable (y)\n",
        "df['target'] = np.random.randint(0, 2, N_SAMPLES)\n",
        "X = df.drop('target', axis=1)\n",
        "y = df['target']\n",
        "\n",
        "print(f\"Dataset Shape (X): {X.shape}\")\n",
        "print(f\"Target Shape (y): {y.shape}\")\n",
        "print(\"-\" * 60)\n",
        "print(X.head())\n",
        "print(\"-\" * 60)\n",
        "\n",
        "\n",
        "# --- 2. Data Preprocessing Pipeline (Scikit-learn ColumnTransformer) ---\n",
        "\n",
        "# Identify feature types\n",
        "numerical_features = X.select_dtypes(include=np.number).columns.tolist()\n",
        "categorical_features = X.select_dtypes(include=['object', 'bool']).columns.tolist()\n",
        "\n",
        "print(f\"Numerical Features: {numerical_features}\")\n",
        "print(f\"Categorical Features: {categorical_features}\")\n",
        "print(\"-\" * 60)\n",
        "\n",
        "# Define preprocessing steps for numerical data\n",
        "numerical_transformer = Pipeline(steps=[\n",
        "    # Strategy 1: Impute missing numerical values with the mean\n",
        "    ('imputer', SimpleImputer(strategy='mean')),\n",
        "    # Strategy 2: Scale features using Z-score standardization\n",
        "    ('scaler', StandardScaler())\n",
        "])\n",
        "\n",
        "# Define preprocessing steps for categorical data\n",
        "categorical_transformer = Pipeline(steps=[\n",
        "    # Strategy 1: Impute missing categorical values with a constant 'missing'\n",
        "    ('imputer', SimpleImputer(strategy='constant', fill_value='missing')),\n",
        "    # Strategy 2: Encode categories using One-Hot Encoding\n",
        "    ('onehot', OneHotEncoder(handle_unknown='ignore', sparse_output=False))\n",
        "])\n",
        "\n",
        "# Create a ColumnTransformer to apply transformations to the correct columns\n",
        "preprocessor = ColumnTransformer(\n",
        "    transformers=[\n",
        "        ('num', numerical_transformer, numerical_features),\n",
        "        ('cat', categorical_transformer, categorical_features)\n",
        "    ],\n",
        "    remainder='passthrough'  # Keep any other columns untouched (none in this case)\n",
        ")\n",
        "\n",
        "print(\"Preprocessing Pipeline (ColumnTransformer) defined.\")\n",
        "print(\"-\" * 60)\n",
        "\n",
        "\n",
        "# --- 3. Apply Preprocessing and Split Data ---\n",
        "\n",
        "print(\"--- 3. Applying Preprocessing and Splitting Data ---\")\n",
        "\n",
        "# Apply the preprocessing steps to the full dataset X\n",
        "X_processed_array = preprocessor.fit_transform(X)\n",
        "\n",
        "# Get feature names after one-hot encoding for the final DataFrame\n",
        "ohe_feature_names = preprocessor.named_transformers_['cat']['onehot'].get_feature_names_out(categorical_features)\n",
        "final_feature_names = numerical_features + ohe_feature_names.tolist()\n",
        "\n",
        "# Convert the processed array back to a DataFrame for easy inspection\n",
        "X_processed = pd.DataFrame(X_processed_array, columns=final_feature_names)\n",
        "\n",
        "print(f\"Processed Dataset Shape: {X_processed.shape}\")\n",
        "print(\"Processed Dataset (First 5 Rows):\")\n",
        "print(X_processed.head())\n",
        "print(\"-\" * 60)\n",
        "\n",
        "# Split the processed data into training and testing sets\n",
        "X_train, X_test, y_train, y_test = train_test_split(\n",
        "    X_processed, y, test_size=0.2, random_state=42\n",
        ")\n",
        "\n",
        "print(f\"X_train shape: {X_train.shape}\")\n",
        "print(f\"X_test shape: {X_test.shape}\")\n",
        "print(f\"y_train shape: {y_train.shape}\")\n",
        "print(f\"y_test shape: {y_test.shape}\")\n",
        "print(\"-\" * 60)\n",
        "\n",
        "# The 'preprocessor' object is the artifact needed to clean new data before deployment.\n",
        "# We will use this preprocessor in the subsequent steps of the MLOps pipeline.\n",
        "\n",
        "# NOTE: The resulting variables X_train, X_test, y_train, and y_test are ready\n",
        "# for immediate use in training two different ML models, satisfying the\n",
        "# requirements of your MLflow Model Building (2.) step.\n"
      ],
      "metadata": {
        "id": "YaNVy67k9mJL",
        "colab": {
          "base_uri": "https://localhost:8080/"
        },
        "outputId": "21cfd9ad-e62d-49eb-845f-fdf8dfb87e58"
      },
      "execution_count": null,
      "outputs": [
        {
          "output_type": "stream",
          "name": "stdout",
          "text": [
            "--- 1. Generating a Large Synthetic Dataset (200,000 rows) ---\n",
            "Dataset Shape (X): (200000, 12)\n",
            "Target Shape (y): (200000,)\n",
            "------------------------------------------------------------\n",
            "   num_feat_0  num_feat_1  num_feat_2  num_feat_3  num_feat_4  num_feat_5  \\\n",
            "0    0.183776   -1.346512    2.008726    3.091149   -2.056032   -0.222408   \n",
            "1    0.095921    1.415653   -3.107627    5.236909   -1.426230    1.512554   \n",
            "2   -0.742375         NaN    0.277130   -3.741007   -1.897122   -9.563048   \n",
            "3    0.974448    1.877190    3.259789    1.277742    4.171122   -7.728250   \n",
            "4    0.305433   -3.391127   -1.903347    0.963442   -2.605184   -5.406868   \n",
            "\n",
            "   num_feat_6  num_feat_7 city_region product_type device_os  is_prime  \n",
            "0    1.806583    2.807676       South            C       Web     False  \n",
            "1   -0.726231    8.212578       South            C   Android      True  \n",
            "2    6.828250    1.566795        East            C       Web     False  \n",
            "3   -3.006983   11.233883       South            A       Web     False  \n",
            "4   -0.066064    2.430622       South            B       iOS      True  \n",
            "------------------------------------------------------------\n",
            "Numerical Features: ['num_feat_0', 'num_feat_1', 'num_feat_2', 'num_feat_3', 'num_feat_4', 'num_feat_5', 'num_feat_6', 'num_feat_7']\n",
            "Categorical Features: ['city_region', 'product_type', 'device_os', 'is_prime']\n",
            "------------------------------------------------------------\n",
            "Preprocessing Pipeline (ColumnTransformer) defined.\n",
            "------------------------------------------------------------\n",
            "--- 3. Applying Preprocessing and Splitting Data ---\n",
            "Processed Dataset Shape: (200000, 22)\n",
            "Processed Dataset (First 5 Rows):\n",
            "   num_feat_0    num_feat_1  num_feat_2  num_feat_3  num_feat_4  num_feat_5  \\\n",
            "0    0.186735 -6.937978e-01    0.670248    0.773766   -0.409571   -0.042181   \n",
            "1    0.098734  7.254461e-01   -1.031379    1.310693   -0.283550    0.254564   \n",
            "2   -0.740951 -8.913281e-19    0.094344   -0.935825   -0.377774   -1.639791   \n",
            "3    0.978717  9.625913e-01    1.086334    0.320002    0.836458   -1.325970   \n",
            "4    0.308593 -1.744353e+00   -0.630853    0.241356   -0.519454   -0.928924   \n",
            "\n",
            "   num_feat_6  num_feat_7  city_region_East  city_region_North  ...  \\\n",
            "0    0.257205    0.347207               0.0                0.0  ...   \n",
            "1   -0.103831    1.022763               0.0                0.0  ...   \n",
            "2    0.973011    0.192110               1.0                0.0  ...   \n",
            "3   -0.428938    1.400395               0.0                0.0  ...   \n",
            "4   -0.009729    0.300079               0.0                0.0  ...   \n",
            "\n",
            "   city_region_nan  product_type_A  product_type_B  product_type_C  \\\n",
            "0              0.0             0.0             0.0             1.0   \n",
            "1              0.0             0.0             0.0             1.0   \n",
            "2              0.0             0.0             0.0             1.0   \n",
            "3              0.0             1.0             0.0             0.0   \n",
            "4              0.0             0.0             1.0             0.0   \n",
            "\n",
            "   product_type_D  device_os_Android  device_os_Web  device_os_iOS  \\\n",
            "0             0.0                0.0            1.0            0.0   \n",
            "1             0.0                1.0            0.0            0.0   \n",
            "2             0.0                0.0            1.0            0.0   \n",
            "3             0.0                0.0            1.0            0.0   \n",
            "4             0.0                0.0            0.0            1.0   \n",
            "\n",
            "   is_prime_False  is_prime_True  \n",
            "0             1.0            0.0  \n",
            "1             0.0            1.0  \n",
            "2             1.0            0.0  \n",
            "3             1.0            0.0  \n",
            "4             0.0            1.0  \n",
            "\n",
            "[5 rows x 22 columns]\n",
            "------------------------------------------------------------\n",
            "X_train shape: (160000, 22)\n",
            "X_test shape: (40000, 22)\n",
            "y_train shape: (160000,)\n",
            "y_test shape: (40000,)\n",
            "------------------------------------------------------------\n"
          ]
        }
      ]
    },
    {
      "cell_type": "code",
      "source": [],
      "metadata": {
        "id": "oq6tLMWcZl1e"
      },
      "execution_count": null,
      "outputs": []
    }
  ]
}
